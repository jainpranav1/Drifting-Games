{
 "cells": [
  {
   "cell_type": "code",
   "execution_count": null,
   "metadata": {},
   "outputs": [],
   "source": [
    "from manim import *\n",
    "import numpy as np\n",
    "\n",
    "config.media_width = \"75%\"\n",
    "config.verbosity = \"WARNING\""
   ]
  },
  {
   "cell_type": "code",
   "execution_count": null,
   "metadata": {},
   "outputs": [],
   "source": [
    "#l_{p} norm\n",
    "p = 2\n",
    "\n",
    "# delta\n",
    "d = 0.1\n",
    "\n",
    "# weight vectors\n",
    "weight_vecs = {\n",
    "    \"chip 1\": {\n",
    "        \"w_{1}^{1}\": np.array([1, 1]),\n",
    "        \"w_{1}^{2}\": np.array([1, 1])\n",
    "    },\n",
    "    \"chip 2\": {\n",
    "        \"w_{2}^{1}\": np.array([1, 1]),\n",
    "        \"w_{2}^{2}\": np.array([1, 1])\n",
    "    }\n",
    "}\n",
    "\n",
    "# drift vectors\n",
    "drift_vecs = {\n",
    "    \"chip 1\": {\n",
    "        \"z_{1}^{1}\": np.array([1, 1]),\n",
    "        \"z_{1}^{2}\": np.array([1, 1])\n",
    "    },\n",
    "    \"chip 2\": {\n",
    "        \"z_{2}^{1}\": np.array([1, 1]),\n",
    "        \"z_{2}^{2}\": np.array([1, 1])\n",
    "    }\n",
    "}"
   ]
  }
 ],
 "metadata": {
  "language_info": {
   "name": "python"
  }
 },
 "nbformat": 4,
 "nbformat_minor": 2
}
