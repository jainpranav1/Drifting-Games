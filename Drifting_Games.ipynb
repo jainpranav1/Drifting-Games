{
 "cells": [
  {
   "cell_type": "code",
   "execution_count": null,
   "metadata": {},
   "outputs": [],
   "source": [
    "from manim import *\n",
    "import numpy as np\n",
    "\n",
    "config.media_width = \"75%\"\n",
    "config.verbosity = \"WARNING\""
   ]
  },
  {
   "cell_type": "code",
   "execution_count": null,
   "metadata": {},
   "outputs": [],
   "source": [
    "# set parameters\n",
    "\n",
    "# l_{p} norm\n",
    "p = 2\n",
    "\n",
    "# delta\n",
    "d = 0.1\n",
    "\n",
    "# number of chips\n",
    "m = 2\n",
    "\n",
    "# number of rounds\n",
    "T = 3\n",
    "\n",
    "# R^{n}\n",
    "n = 2 # can't change"
   ]
  },
  {
   "cell_type": "code",
   "execution_count": null,
   "metadata": {},
   "outputs": [],
   "source": [
    "# set weight and drift vectors\n",
    "\n",
    "# weight vectors (w[i, t] = w_{i}^{t})\n",
    "w = np.zeros([m+1, T+1, n]) # +1 to enable 1-indexing\n",
    "\n",
    "w[1, 1] = [1, 1]\n",
    "w[1, 2] = [1, 1]\n",
    "w[1, 3] = [1, 1]\n",
    "\n",
    "w[2, 1] = [-1, -1]\n",
    "w[2, 2] = [-1, -1]\n",
    "w[2, 3] = [-1, -1]\n",
    "\n",
    "\n",
    "# # drift vectors (z[i, t] = z_{i}^{t})\n",
    "z = np.zeros([m+1, T+1, n]) # +1 to enable 1-indexing\n",
    "\n",
    "z[1, 1] = [1, 1]\n",
    "z[1, 2] = [1, 1]\n",
    "z[1, 3] = [1, 1]\n",
    "\n",
    "z[2, 1] = [-1, -1]\n",
    "z[2, 2] = [-1, -1]\n",
    "z[2, 3] = [-1, -1]"
   ]
  },
  {
   "cell_type": "code",
   "execution_count": null,
   "metadata": {},
   "outputs": [],
   "source": [
    "# check that the drift vectors are valid\n",
    "for t in range(1, T+1):\n",
    "    left = 0\n",
    "    right = 0\n",
    "    for i in range(1, m+1):\n",
    "        left += np.dot(w[i, t], z[i, t])\n",
    "        right += np.linalg.norm(w[i, t], p)\n",
    "    right + d * right\n",
    "    \n",
    "    if left >= right:\n",
    "        print(\"z_{{1}}^{{{b}}} - z_{{{a}}}^{{{b}}} are valid\".format(a=n, b=t))\n",
    "    else:\n",
    "        print(\"z_{{1}}^{{{b}}} - z_{{{a}}}^{{{b}}} are not valid\".format(a=n, b=t))"
   ]
  }
 ],
 "metadata": {
  "language_info": {
   "name": "python"
  }
 },
 "nbformat": 4,
 "nbformat_minor": 2
}
